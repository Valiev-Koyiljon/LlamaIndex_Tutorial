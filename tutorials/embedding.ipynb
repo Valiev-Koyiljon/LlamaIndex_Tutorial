{
 "cells": [
  {
   "cell_type": "markdown",
   "metadata": {},
   "source": [
    "### Embedding Model using LlamaIndex"
   ]
  },
  {
   "cell_type": "code",
   "execution_count": 1,
   "metadata": {},
   "outputs": [
    {
     "name": "stderr",
     "output_type": "stream",
     "text": [
      "c:\\Users\\User\\anaconda3\\envs\\llm\\lib\\site-packages\\tqdm\\auto.py:21: TqdmWarning: IProgress not found. Please update jupyter and ipywidgets. See https://ipywidgets.readthedocs.io/en/stable/user_install.html\n",
      "  from .autonotebook import tqdm as notebook_tqdm\n"
     ]
    },
    {
     "name": "stdout",
     "output_type": "stream",
     "text": [
      "LLM is explicitly disabled. Using MockLLM.\n"
     ]
    }
   ],
   "source": [
    "from llama_index.embeddings.huggingface import HuggingFaceEmbedding\n",
    "from llama_index.core import Settings, SimpleDirectoryReader, VectorStoreIndex\n",
    "\n",
    "Settings.embed_model = HuggingFaceEmbedding(\n",
    "    model_name=\"BAAI/bge-small-en-v1.5\"\n",
    ") \n",
    "Settings.llm = None"
   ]
  },
  {
   "cell_type": "code",
   "execution_count": null,
   "metadata": {},
   "outputs": [],
   "source": [
    "documents = SimpleDirectoryReader(\"../data\").load_data()\n",
    "\n",
    "index = VectorStoreIndex.from_documents(documents)"
   ]
  },
  {
   "cell_type": "code",
   "execution_count": null,
   "metadata": {},
   "outputs": [],
   "source": [
    "query_engine = index.as_query_engine()\n",
    "response = query_engine.query(\"Tell me about GPT\")"
   ]
  },
  {
   "cell_type": "code",
   "execution_count": 4,
   "metadata": {},
   "outputs": [
    {
     "data": {
      "text/plain": [
       "Response(response='Context information is below.\\n---------------------\\npage_label: 20\\nfile_path: c:\\\\Users\\\\User\\\\Desktop\\\\LlamaIndex\\\\tutorials\\\\..\\\\data\\\\GPT-paper.pdf\\n\\nGPTs can offer real-time updates, effective route optimization,\\nand customized recommendations in the travel and transporta-\\ntion industries, enhancing the overall travel experience and\\nincreasing operational effectiveness. Adopting them, however,\\ncomes with some difﬁculties. As speciﬁc roles are replaced\\nby automation, GPTs may result in job displacement [127].\\nAdditionally, the computational and memory requirements\\nfor GPTs make their deployment on compact or low-power\\ndevices difﬁcult. GPTs may not be accessible to growing\\nbusinesses due to the high costs associated with obtaining and\\nusing them. Despite these obstacles, attempts are being done to\\novercome them and improve the usability and value of GPTs\\nfor a larger range of users.\\nF . E-Commerce\\n1) Introduction: Electronic commerce, commonly referred\\nto as e-commerce, is a way for conducting economic trans-\\nactions and create relationships between groups of people\\nand entities using digital information processes and electronic\\ncommunications [128]. Globally, this type of trade has experi-\\nenced substantial growth, particularly in the retail sector. The\\npreference for internet shopping, especially among younger\\nmillennials, is a prominent trend in consumer behaviour.\\nMobile devices have consequently taken over as the main\\nmethod for carrying out internet transactions [129]. Therefore,\\nit is crucial for e-commerce companies to give the customer\\nexperience in their mobile applications top priority. The pro-\\nvision of brief text summaries for titles and reviews is an\\nessential component of this. These summaries are essential\\nfor optimizing search results, helping consumers identify ap-\\npropriate items, and ultimately raising customer happiness in\\nthe online purchasing space [130].\\n2) Impact of GPT in E-Commerce Realms: The e-\\ncommerce sector could signiﬁcantly advance with the intro-\\nduction of GPTs. GPTs can be accessed by users or customers\\nand are intended to answer commonly asked questions and\\ngive in-depth details about many elements of the e-commerce\\nprocess, such as products, delivery, refunds, and more [107].\\nOne of the main beneﬁts of GPTs is their capacity for quick\\nresponses, which decreases the amount of time customers must\\nwait to hear back from businesses [131]. By taking care of an\\nimportant number of client inquiries, this function not only\\nincreases customer happiness but also lessens the workload\\non support workers. Customers will ultimately have a better\\npurchasing experience as a result of being able to quickly\\nacquire the information they require and interact with GPTs\\n[106].\\n• Proofreading: To improve the calibre and accuracy of\\nwritten content in e-commerce, GPTs can be used for\\nproofreading. Written content is essential for product\\n\\npage_label: 23\\nfile_path: c:\\\\Users\\\\User\\\\Desktop\\\\LlamaIndex\\\\tutorials\\\\..\\\\data\\\\GPT-paper.pdf\\n\\n23\\n• Realistic Gaming Interactions: GPT helps to generate the\\nplayers, gaming narratives, dialogues, user interface, and\\nuser-speciﬁc gaming recommendations and new game\\ncreation. Powerful HCIs can render a better user ex-\\nperience for game developers and players. Assistance\\nto the game developers in debugging and enhancing\\nthe code developed. GPT uses various NLP and AI\\nalgorithms trained with massive data to predict the next\\nphrase/movements and provide human-like experiences in\\n3D gaming environments. ChatGPT has been integrated\\nwith AR and VR to provide an immersive gaming expe-\\nrience.\\n3) Challenges: Latency is the major issue connected with\\nrendering the voice-based response to the voice input. As\\nwell, plausible misinterpretations may mislead the responses,\\nand interruptions to the relayed output are difﬁcult. Enabling\\ntechnologies like EC and 5G can help overcome this issue.\\nAlso, GPTs must be capable of storing the facts with audio\\nconversations to relay them while conversing the other day.\\nFurthermore, the AI system must be built in such a way\\nthat it can continuously learn (lifelong machine learning) and\\nenhance over time. The major ethical concern with virtual\\nstorytelling is the bias exposed in the training data and the\\nobscurity of reproduced content on the generated stories.\\nAnother issue with the generated content is plagiarism (i.e.,\\nproducing content similar to the content in the published\\narticles or books), raising disputes with intellectual property\\nrights. In addition to this, the source of the content generated\\nremains unexplored. The language barriers in using GPT must\\nbe lessened to improve user experience and utilize the features\\nof GPT [113]. The implication of the user to provide inputs in\\na certain format to GPTs can be further improved by providing\\ndifferent options in addition to voice-based inputs GPT4,\\nlike braille screen input for visually disabled people. The\\nuser authentication can also be further enhanced to safeguard\\nuser-speciﬁc content generation and avoid repeated content\\ngeneration for users with similar requests. One of the primary\\nconcerns with the GPTs adoption is job loss. Content creators,\\nbloggers, and poets may lose their jobs.\\n4) Summary: The entertainment industry is the one which\\nwill be in demand always, as it is a lifeline for many indi-\\nviduals leading a stressful work environment or personal life.\\nDespite the stress, entertainment has become part of routine\\nlife due to its immersive nature, creating harmony in the mind\\nand the environment. GPTs have made a major contribution to\\nenhancing the entertainment industry, but the job security of\\nmany professionals in this ﬁeld remains unanswered. GPTs\\nmust be trained on unbiased data and ensure transparency\\nin source content generation to provide a secure, robust, and\\nefﬁcient contribution to the entertainment industry. To attract\\nall types of users, the multilingual capability and content\\nrendering of GPTs can be further enhanced. The issues con-\\nstrained by providing user inputs to GPTs can be alleviated to\\nall extent. Furthermore, safer user content generation without\\nplagiarism and relating facts with previous conversations can\\nbe guaranteed by abiding by the storage requirements to deal\\nwith a more personalized user experience.\\nH. Lifestyle\\n1) Introduction: Lifestyle, the way of our living, is one\\nof the prominent areas most people in today’s digital era of\\nAI, are bound to and look for constant improvement. The\\n“modus vivendi” is a Latin expression that semantically means\\na way of living and should be understood in terms of values\\nand attitudes. These two terms manifest self, inﬂuenced by\\nfamily, society, and global media. Directly or indirectly, these\\ninﬂuence an individual’s lifestyle. Adopted from a sociological\\nperspective, an individual expresses oneself through different\\npractices, viz., eating ways, drinking behaviours, mode of\\ntravel, travelling places, costume designs, body-shaping cloth\\nto wear, media preferences, education choices, job preferences,\\nentertainment modes, managing leisure time, means of com-\\nmunication and so [152]. In all these practices, individuals\\nwould like to explore and learn about what, where, how, and\\nwhen factors for reading sustainable development [153]. The\\nconcept of lifestyle is all about “how one wants to live one’s\\nlife.” Consumerism is the act of purchasing artifacts for soci-\\netal status and is one of the thriving lifestyle factors.\\n---------------------\\nGiven the context information and not prior knowledge, answer the query.\\nQuery: Tell me about GPT\\nAnswer: ', source_nodes=[NodeWithScore(node=TextNode(id_='35953853-8db1-430a-830c-d1077a28ec2d', embedding=None, metadata={'page_label': '20', 'file_name': 'GPT-paper.pdf', 'file_path': 'c:\\\\Users\\\\User\\\\Desktop\\\\LlamaIndex\\\\tutorials\\\\..\\\\data\\\\GPT-paper.pdf', 'file_type': 'application/pdf', 'file_size': 3250309, 'creation_date': '2025-02-12', 'last_modified_date': '2025-01-21'}, excluded_embed_metadata_keys=['file_name', 'file_type', 'file_size', 'creation_date', 'last_modified_date', 'last_accessed_date'], excluded_llm_metadata_keys=['file_name', 'file_type', 'file_size', 'creation_date', 'last_modified_date', 'last_accessed_date'], relationships={<NodeRelationship.SOURCE: '1'>: RelatedNodeInfo(node_id='cef74980-c03a-4818-b143-159d137471f3', node_type='4', metadata={'page_label': '20', 'file_name': 'GPT-paper.pdf', 'file_path': 'c:\\\\Users\\\\User\\\\Desktop\\\\LlamaIndex\\\\tutorials\\\\..\\\\data\\\\GPT-paper.pdf', 'file_type': 'application/pdf', 'file_size': 3250309, 'creation_date': '2025-02-12', 'last_modified_date': '2025-01-21'}, hash='c52df6ca5e7c1feb28a206169e51460f8f4c5da0b68b27e990262281fbe19a44'), <NodeRelationship.PREVIOUS: '2'>: RelatedNodeInfo(node_id='c8d195db-2394-4ae4-9261-2dc0621409fc', node_type='1', metadata={'page_label': '20', 'file_name': 'GPT-paper.pdf', 'file_path': 'c:\\\\Users\\\\User\\\\Desktop\\\\LlamaIndex\\\\tutorials\\\\..\\\\data\\\\GPT-paper.pdf', 'file_type': 'application/pdf', 'file_size': 3250309, 'creation_date': '2025-02-12', 'last_modified_date': '2025-01-21'}, hash='96522cf2343e1dfe6cedc40471fd6dfe0fda561860b738498cac92405bb208f7')}, metadata_template='{key}: {value}', metadata_separator='\\n', text='GPTs can offer real-time updates, effective route optimization,\\nand customized recommendations in the travel and transporta-\\ntion industries, enhancing the overall travel experience and\\nincreasing operational effectiveness. Adopting them, however,\\ncomes with some difﬁculties. As speciﬁc roles are replaced\\nby automation, GPTs may result in job displacement [127].\\nAdditionally, the computational and memory requirements\\nfor GPTs make their deployment on compact or low-power\\ndevices difﬁcult. GPTs may not be accessible to growing\\nbusinesses due to the high costs associated with obtaining and\\nusing them. Despite these obstacles, attempts are being done to\\novercome them and improve the usability and value of GPTs\\nfor a larger range of users.\\nF . E-Commerce\\n1) Introduction: Electronic commerce, commonly referred\\nto as e-commerce, is a way for conducting economic trans-\\nactions and create relationships between groups of people\\nand entities using digital information processes and electronic\\ncommunications [128]. Globally, this type of trade has experi-\\nenced substantial growth, particularly in the retail sector. The\\npreference for internet shopping, especially among younger\\nmillennials, is a prominent trend in consumer behaviour.\\nMobile devices have consequently taken over as the main\\nmethod for carrying out internet transactions [129]. Therefore,\\nit is crucial for e-commerce companies to give the customer\\nexperience in their mobile applications top priority. The pro-\\nvision of brief text summaries for titles and reviews is an\\nessential component of this. These summaries are essential\\nfor optimizing search results, helping consumers identify ap-\\npropriate items, and ultimately raising customer happiness in\\nthe online purchasing space [130].\\n2) Impact of GPT in E-Commerce Realms: The e-\\ncommerce sector could signiﬁcantly advance with the intro-\\nduction of GPTs. GPTs can be accessed by users or customers\\nand are intended to answer commonly asked questions and\\ngive in-depth details about many elements of the e-commerce\\nprocess, such as products, delivery, refunds, and more [107].\\nOne of the main beneﬁts of GPTs is their capacity for quick\\nresponses, which decreases the amount of time customers must\\nwait to hear back from businesses [131]. By taking care of an\\nimportant number of client inquiries, this function not only\\nincreases customer happiness but also lessens the workload\\non support workers. Customers will ultimately have a better\\npurchasing experience as a result of being able to quickly\\nacquire the information they require and interact with GPTs\\n[106].\\n• Proofreading: To improve the calibre and accuracy of\\nwritten content in e-commerce, GPTs can be used for\\nproofreading. Written content is essential for product', mimetype='text/plain', start_char_idx=3635, end_char_idx=6390, metadata_seperator='\\n', text_template='{metadata_str}\\n\\n{content}'), score=0.7345909486971217), NodeWithScore(node=TextNode(id_='c8bce823-f1ee-452b-967d-7930b6d3e4a3', embedding=None, metadata={'page_label': '23', 'file_name': 'GPT-paper.pdf', 'file_path': 'c:\\\\Users\\\\User\\\\Desktop\\\\LlamaIndex\\\\tutorials\\\\..\\\\data\\\\GPT-paper.pdf', 'file_type': 'application/pdf', 'file_size': 3250309, 'creation_date': '2025-02-12', 'last_modified_date': '2025-01-21'}, excluded_embed_metadata_keys=['file_name', 'file_type', 'file_size', 'creation_date', 'last_modified_date', 'last_accessed_date'], excluded_llm_metadata_keys=['file_name', 'file_type', 'file_size', 'creation_date', 'last_modified_date', 'last_accessed_date'], relationships={<NodeRelationship.SOURCE: '1'>: RelatedNodeInfo(node_id='d467f08d-2ebb-4ebc-b2ca-86240d487ec6', node_type='4', metadata={'page_label': '23', 'file_name': 'GPT-paper.pdf', 'file_path': 'c:\\\\Users\\\\User\\\\Desktop\\\\LlamaIndex\\\\tutorials\\\\..\\\\data\\\\GPT-paper.pdf', 'file_type': 'application/pdf', 'file_size': 3250309, 'creation_date': '2025-02-12', 'last_modified_date': '2025-01-21'}, hash='cf8f86c0a79524a1531a2af5aa80133799f4e2b45ce4aac51e9e34ad6d4709ee'), <NodeRelationship.NEXT: '3'>: RelatedNodeInfo(node_id='e67fe8b0-4424-4668-9cb8-82b7748847a0', node_type='1', metadata={}, hash='8634d27d0441fef099c9628c54468a6fbb9eeeccb89e4edb04db0fc4462d2501')}, metadata_template='{key}: {value}', metadata_separator='\\n', text='23\\n• Realistic Gaming Interactions: GPT helps to generate the\\nplayers, gaming narratives, dialogues, user interface, and\\nuser-speciﬁc gaming recommendations and new game\\ncreation. Powerful HCIs can render a better user ex-\\nperience for game developers and players. Assistance\\nto the game developers in debugging and enhancing\\nthe code developed. GPT uses various NLP and AI\\nalgorithms trained with massive data to predict the next\\nphrase/movements and provide human-like experiences in\\n3D gaming environments. ChatGPT has been integrated\\nwith AR and VR to provide an immersive gaming expe-\\nrience.\\n3) Challenges: Latency is the major issue connected with\\nrendering the voice-based response to the voice input. As\\nwell, plausible misinterpretations may mislead the responses,\\nand interruptions to the relayed output are difﬁcult. Enabling\\ntechnologies like EC and 5G can help overcome this issue.\\nAlso, GPTs must be capable of storing the facts with audio\\nconversations to relay them while conversing the other day.\\nFurthermore, the AI system must be built in such a way\\nthat it can continuously learn (lifelong machine learning) and\\nenhance over time. The major ethical concern with virtual\\nstorytelling is the bias exposed in the training data and the\\nobscurity of reproduced content on the generated stories.\\nAnother issue with the generated content is plagiarism (i.e.,\\nproducing content similar to the content in the published\\narticles or books), raising disputes with intellectual property\\nrights. In addition to this, the source of the content generated\\nremains unexplored. The language barriers in using GPT must\\nbe lessened to improve user experience and utilize the features\\nof GPT [113]. The implication of the user to provide inputs in\\na certain format to GPTs can be further improved by providing\\ndifferent options in addition to voice-based inputs GPT4,\\nlike braille screen input for visually disabled people. The\\nuser authentication can also be further enhanced to safeguard\\nuser-speciﬁc content generation and avoid repeated content\\ngeneration for users with similar requests. One of the primary\\nconcerns with the GPTs adoption is job loss. Content creators,\\nbloggers, and poets may lose their jobs.\\n4) Summary: The entertainment industry is the one which\\nwill be in demand always, as it is a lifeline for many indi-\\nviduals leading a stressful work environment or personal life.\\nDespite the stress, entertainment has become part of routine\\nlife due to its immersive nature, creating harmony in the mind\\nand the environment. GPTs have made a major contribution to\\nenhancing the entertainment industry, but the job security of\\nmany professionals in this ﬁeld remains unanswered. GPTs\\nmust be trained on unbiased data and ensure transparency\\nin source content generation to provide a secure, robust, and\\nefﬁcient contribution to the entertainment industry. To attract\\nall types of users, the multilingual capability and content\\nrendering of GPTs can be further enhanced. The issues con-\\nstrained by providing user inputs to GPTs can be alleviated to\\nall extent. Furthermore, safer user content generation without\\nplagiarism and relating facts with previous conversations can\\nbe guaranteed by abiding by the storage requirements to deal\\nwith a more personalized user experience.\\nH. Lifestyle\\n1) Introduction: Lifestyle, the way of our living, is one\\nof the prominent areas most people in today’s digital era of\\nAI, are bound to and look for constant improvement. The\\n“modus vivendi” is a Latin expression that semantically means\\na way of living and should be understood in terms of values\\nand attitudes. These two terms manifest self, inﬂuenced by\\nfamily, society, and global media. Directly or indirectly, these\\ninﬂuence an individual’s lifestyle. Adopted from a sociological\\nperspective, an individual expresses oneself through different\\npractices, viz., eating ways, drinking behaviours, mode of\\ntravel, travelling places, costume designs, body-shaping cloth\\nto wear, media preferences, education choices, job preferences,\\nentertainment modes, managing leisure time, means of com-\\nmunication and so [152]. In all these practices, individuals\\nwould like to explore and learn about what, where, how, and\\nwhen factors for reading sustainable development [153]. The\\nconcept of lifestyle is all about “how one wants to live one’s\\nlife.” Consumerism is the act of purchasing artifacts for soci-\\netal status and is one of the thriving lifestyle factors.', mimetype='text/plain', start_char_idx=0, end_char_idx=4461, metadata_seperator='\\n', text_template='{metadata_str}\\n\\n{content}'), score=0.7312888623984579)], metadata={'35953853-8db1-430a-830c-d1077a28ec2d': {'page_label': '20', 'file_name': 'GPT-paper.pdf', 'file_path': 'c:\\\\Users\\\\User\\\\Desktop\\\\LlamaIndex\\\\tutorials\\\\..\\\\data\\\\GPT-paper.pdf', 'file_type': 'application/pdf', 'file_size': 3250309, 'creation_date': '2025-02-12', 'last_modified_date': '2025-01-21'}, 'c8bce823-f1ee-452b-967d-7930b6d3e4a3': {'page_label': '23', 'file_name': 'GPT-paper.pdf', 'file_path': 'c:\\\\Users\\\\User\\\\Desktop\\\\LlamaIndex\\\\tutorials\\\\..\\\\data\\\\GPT-paper.pdf', 'file_type': 'application/pdf', 'file_size': 3250309, 'creation_date': '2025-02-12', 'last_modified_date': '2025-01-21'}})"
      ]
     },
     "execution_count": 4,
     "metadata": {},
     "output_type": "execute_result"
    }
   ],
   "source": [
    "response"
   ]
  },
  {
   "cell_type": "code",
   "execution_count": null,
   "metadata": {},
   "outputs": [],
   "source": []
  },
  {
   "cell_type": "code",
   "execution_count": null,
   "metadata": {},
   "outputs": [],
   "source": []
  }
 ],
 "metadata": {
  "kernelspec": {
   "display_name": "llm",
   "language": "python",
   "name": "python3"
  },
  "language_info": {
   "codemirror_mode": {
    "name": "ipython",
    "version": 3
   },
   "file_extension": ".py",
   "mimetype": "text/x-python",
   "name": "python",
   "nbconvert_exporter": "python",
   "pygments_lexer": "ipython3",
   "version": "3.10.16"
  }
 },
 "nbformat": 4,
 "nbformat_minor": 2
}
