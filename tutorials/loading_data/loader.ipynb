{
 "cells": [
  {
   "cell_type": "markdown",
   "metadata": {},
   "source": [
    "## Load data (Ingestion)"
   ]
  },
  {
   "cell_type": "markdown",
   "metadata": {},
   "source": [
    "Before your chosen LLM can act on your data, you first need to process the data and load it. This has parallels to data cleaning/feature engineering pipelines in the ML world, or ETL pipelines in the traditional data setting.\n",
    "\n",
    "This ingestion pipeline typically consists of three main stages:\n",
    "\n",
    "- Load the data\n",
    "- Transform the data\n",
    "- Index and store the data"
   ]
  },
  {
   "cell_type": "markdown",
   "metadata": {},
   "source": [
    "#### SimpleDirectoryReader"
   ]
  },
  {
   "cell_type": "code",
   "execution_count": 2,
   "metadata": {},
   "outputs": [],
   "source": [
    "from llama_index.core import SimpleDirectoryReader\n",
    "\n",
    "\n",
    "documents = SimpleDirectoryReader(\"../../data\").load_data()"
   ]
  },
  {
   "cell_type": "markdown",
   "metadata": {},
   "source": [
    "### Using Readers from LlamaHub"
   ]
  },
  {
   "cell_type": "code",
   "execution_count": null,
   "metadata": {},
   "outputs": [],
   "source": [
    "from llama_index.core import download_loader\n",
    "from llama_index.readers.database import DatabaseReader\n",
    "import os\n",
    "from dotenv import load_dotenv\n",
    "\n",
    "\n",
    "reader = DatabaseReader(\n",
    "    scheme = os.getenv(\"DB_SCHEME\"),\n",
    "    host=os.getenv(\"DB_HOST\"),\n",
    "    port=os.getenv(\"DB_PORT\"),\n",
    "    user=os.getenv(\"DB_USER\"),\n",
    "    password=os.getenv(\"DB_PASS\"),\n",
    "    dbname=os.getenv(\"DB_NAME\"),\n",
    "    \n",
    ")\n",
    "\n",
    "query = \"SELECT * FROM users\"\n",
    "documents = reader.load_data(query=query)"
   ]
  },
  {
   "cell_type": "markdown",
   "metadata": {},
   "source": [
    "#### Creating Documents directly\n",
    "Instead of using a loader, you can also use a Document directly."
   ]
  },
  {
   "cell_type": "code",
   "execution_count": 14,
   "metadata": {},
   "outputs": [],
   "source": [
    "from llama_index.core import Document\n",
    "\n",
    "doc = Document(text = \"This is the longer piece of text\", metadata = {\"source\":\"example.txt\", \"author\":\"Koyilbek\"})"
   ]
  },
  {
   "cell_type": "code",
   "execution_count": 13,
   "metadata": {},
   "outputs": [
    {
     "data": {
      "text/plain": [
       "Document(id_='b0d18c3e-dcfd-468b-966b-1f695c32d391', embedding=None, metadata={}, excluded_embed_metadata_keys=[], excluded_llm_metadata_keys=[], relationships={}, metadata_template='{key}: {value}', metadata_separator='\\n', text_resource=MediaResource(embeddings=None, data=None, text='Text', path=None, url=None, mimetype=None), image_resource=None, audio_resource=None, video_resource=None, text_template='{metadata_str}\\n\\n{content}')"
      ]
     },
     "execution_count": 13,
     "metadata": {},
     "output_type": "execute_result"
    }
   ],
   "source": [
    "doc"
   ]
  },
  {
   "cell_type": "markdown",
   "metadata": {},
   "source": [
    "### Transformations\n",
    "After the data is loaded, you then need to process and transform your data before putting it into a storage system. These transformations include chunking, extracting metadata, and embedding each chunk. This is necessary to make sure that the data can be retrieved, and used optimally by the LLM.\n",
    "\n",
    "Transformation input/outputs are Node objects (a Document is a subclass of a Node). Transformations can also be stacked and reordered.\n",
    "\n",
    "We have both a high-level and lower-level API for transforming documents.\n",
    "\n",
    "### High-Level Transformation API\n",
    "Indexes have a .from_documents() method which accepts an array of Document objects and will correctly parse and chunk them up. However, sometimes you will want greater control over how your documents are split up."
   ]
  },
  {
   "cell_type": "code",
   "execution_count": 4,
   "metadata": {},
   "outputs": [
    {
     "name": "stderr",
     "output_type": "stream",
     "text": [
      "Loading checkpoint shards: 100%|██████████| 2/2 [00:02<00:00,  1.24s/it]\n",
      "c:\\Users\\User\\anaconda3\\envs\\llm\\lib\\site-packages\\llama_index\\core\\indices\\base.py:110: DeprecationWarning: Call to deprecated method get_doc_id. ('get_doc_id' is deprecated, access the 'id_' property instead.) -- Deprecated since version 0.12.2.\n",
      "  docstore.set_document_hash(doc.get_doc_id(), doc.hash)\n"
     ]
    }
   ],
   "source": [
    "from llama_index.core import VectorStoreIndex, SimpleDirectoryReader, Settings\n",
    "from llama_index.embeddings.huggingface import HuggingFaceEmbedding\n",
    "from llama_index.llms.huggingface import HuggingFaceLLM\n",
    "import warnings\n",
    "warnings.resetwarnings()\n",
    "\n",
    "\n",
    "# local embedding\n",
    "Settings.embed_model = HuggingFaceEmbedding(model_name = \"BAAI/bge-small-en-v1.5\")\n",
    "\n",
    "# local LLM\n",
    "Settings.llm = HuggingFaceLLM(\n",
    "    model_name=\"microsoft/phi-2\",  # This is a smaller model that works well for most tasks\n",
    "    tokenizer_name=\"microsoft/phi-2\",\n",
    "    context_window=2048,\n",
    "    max_new_tokens=256,\n",
    "    generate_kwargs={\"temperature\": 0.7, \"do_sample\": True},\n",
    "    device_map=\"auto\",\n",
    ")\n",
    "\n",
    "# laod and index your document\n",
    "documents = SimpleDirectoryReader(\"../../data\").load_data()\n",
    "vector_index = VectorStoreIndex.from_documents(documents)\n",
    "query_engine =  vector_index.as_query_engine()"
   ]
  },
  {
   "cell_type": "code",
   "execution_count": 6,
   "metadata": {},
   "outputs": [
    {
     "name": "stderr",
     "output_type": "stream",
     "text": [
      "Setting `pad_token_id` to `eos_token_id`:50256 for open-end generation.\n",
      "This is a friendly reminder - the current text generation call will exceed the model's predefined maximum length (2048). Depending on the model, you may observe exceptions, performance degradation, or nothing at all.\n",
      "Setting `pad_token_id` to `eos_token_id`:50256 for open-end generation.\n"
     ]
    },
    {
     "data": {
      "text/plain": [
       "Response(response=\"------------\\nGiven the new context, refine the original answer to better answer the query. If the context isn't useful, return the original answer.\\nQuery: What are the main topics discussed in these documents\\nAnswer: ------------\\nGiven the new context, refine the original answer to better answer the query. If the context isn't useful, return the original answer.\\nQuery: What are the main topics discussed in these documents\\nAnswer: ------------\\nGiven the new context, refine the original answer to better answer the query. If the context isn't useful, return the original answer.\\nQuery: What are the main topics discussed in these documents\\nAnswer: ------------\\nGiven the new context, refine the original answer to better answer the query. If the context isn't useful, return the original answer.\\nQuery: What are the main topics discussed in these documents\\nAnswer: ------------\\nGiven the new context, refine the original answer to better answer the query. If the context isn't useful, return the original answer.\\nQuery: What are the main topics discussed in these documents\\nAnswer: ------------\\nGiven the new context, refine the original answer to better answer the query. If the context isn't useful, return the original answer.\\nQuery\", source_nodes=[NodeWithScore(node=TextNode(id_='64a633f6-863c-4c91-9b24-93d4d9c57ad5', embedding=None, metadata={'page_label': '39', 'file_name': 'GPT-paper.pdf', 'file_path': 'c:\\\\Users\\\\User\\\\Desktop\\\\LlamaIndex\\\\tutorials\\\\loading_data\\\\..\\\\..\\\\data\\\\GPT-paper.pdf', 'file_type': 'application/pdf', 'file_size': 3250309, 'creation_date': '2025-02-12', 'last_modified_date': '2025-01-21'}, excluded_embed_metadata_keys=['file_name', 'file_type', 'file_size', 'creation_date', 'last_modified_date', 'last_accessed_date'], excluded_llm_metadata_keys=['file_name', 'file_type', 'file_size', 'creation_date', 'last_modified_date', 'last_accessed_date'], relationships={<NodeRelationship.SOURCE: '1'>: RelatedNodeInfo(node_id='697160f8-3e96-4ece-a7e2-8b0db4d3a820', node_type='4', metadata={'page_label': '39', 'file_name': 'GPT-paper.pdf', 'file_path': 'c:\\\\Users\\\\User\\\\Desktop\\\\LlamaIndex\\\\tutorials\\\\loading_data\\\\..\\\\..\\\\data\\\\GPT-paper.pdf', 'file_type': 'application/pdf', 'file_size': 3250309, 'creation_date': '2025-02-12', 'last_modified_date': '2025-01-21'}, hash='d1f96bda86e399156678171dd4866c2964b8d49dd06356ef0907d15c2d96948b'), <NodeRelationship.PREVIOUS: '2'>: RelatedNodeInfo(node_id='8f93862b-d113-4fd5-8246-0d84d45e1deb', node_type='1', metadata={'page_label': '39', 'file_name': 'GPT-paper.pdf', 'file_path': 'c:\\\\Users\\\\User\\\\Desktop\\\\LlamaIndex\\\\tutorials\\\\loading_data\\\\..\\\\..\\\\data\\\\GPT-paper.pdf', 'file_type': 'application/pdf', 'file_size': 3250309, 'creation_date': '2025-02-12', 'last_modified_date': '2025-01-21'}, hash='26c5fbb99f6e8c841c515d1dd79cad009dd0e716d24c0cc6647e9126e76b0886'), <NodeRelationship.NEXT: '3'>: RelatedNodeInfo(node_id='d8bb8081-21ab-4cda-b9bf-393197de1b57', node_type='1', metadata={}, hash='409308dc5b194c9566eb0096990c45e5c364c6114d357b554b5f52e352b04c6b')}, metadata_template='{key}: {value}', metadata_separator='\\n', text='165, no. 8, pp. 854–857, 2005.\\n[156] Y . H. Yeo, J. S. Samaan, W. H. Ng, P.-S. Ting, H. Trivedi, A. Vipani,\\nW. Ayoub, J. D. Yang, O. Liran, B. Spiegel et al. , “Assessing the\\nperformance of chatgpt in answering questions regarding cirrhosis and\\nhepatocellular carcinoma,” medRxiv, pp. 2023–02, 2023.\\n[157] S. S. Biswas, “Role of chat gpt in public health,” Annals of Biomedical\\nEngineering, pp. 1–2, 2023.\\n[158] M. Patkar, “5 Free Travel Planning AI and ChatGPT Apps to Get an\\nInstant Itinerary — makeuseof.com,” https://www.makeuseof.com/free-\\ntravel-planning-ai-chatgpt-apps/, [Accessed 24-Apr-2023].\\n[159] “Your ai-powered personal chef.” [Online]. Available: https://www.\\nchefgpt.xyz/\\n[160] lechjaLearnCrafts, “Learn Crafts & Hobbies w/ GPT Chat —\\nlechja.com,” https://www.lechja.com/ai/learn-crafts-hobbies-w-gpt-\\nchat, 2023, [Accessed 24-Apr-2023].\\n[161] “How to use chatgpt in your job search — indeed.com.” [On-\\nline]. Available: https://www.indeed.com/career-advice/news/chatgpt-\\njob-search\\n[162] L. Floridi and M. Chiriatti, “Gpt-3: Its nature, scope, limits, and\\nconsequences,” Minds and Machines , vol. 30, pp. 681–694, 2020.\\n[163] S. Toshniwal, S. Wiseman, K. Livescu, and K. Gimpel, “Learning chess\\nblindfolded,” 2021.\\n[164] J. Freiknecht and W. Effelsberg, “Procedural generation of interactive\\nstories using language models,” in Proceedings of the 15th Interna-\\ntional Conference on the Foundations of Digital Games , 2020, pp.\\n1–8.\\n[165] S. V ¨artinen, P. H ¨am¨al¨ainen, and C. Guckelsberger, “Generating role-\\nplaying game quests with gpt language models,” IEEE Transactions on\\nGames, pp. 1–12, 2022.\\n[166] J. van Stegeren and J. Myundeﬁnedliwiec, “Fine-tuning gpt-2 on\\nannotated rpg quests for npc dialogue generation,” in Proceedings\\nof the 16th International Conference on the Foundations of Digital\\nGames, ser. FDG ’21. New York, NY , USA: Association for\\nComputing Machinery, 2021. [Online]. Available: https://doi.org/10.\\n1145/3472538.3472595\\n[167] P. Roetzer and M. Kaput, Marketing Artiﬁcial Intelligence: AI, Mar-\\nketing, and the Future of Business . BenBella Books, 2022.\\n[168] J. Thiergart, S. Huber, and T. ¨Ubellacker, “Understanding emails\\nand drafting responses–an approach using gpt-3,” arXiv preprint\\narXiv:2102.03062, 2021.\\n[169] X. Bai, L. Duan, R. Tang, G. Batra, and R. Agrawal, “Improving text-\\nbased similar product recommendation for dynamic product advertising\\nat yahoo,” in Proceedings of the 31st ACM International Conference on\\nInformation & Knowledge Management , ser. CIKM ’22. New York,\\nNY , USA: Association for Computing Machinery, 2022, p. 2883–2892.\\n[Online]. Available: https://doi.org/10.1145/3511808.3557129\\n[170] P. S. Neves, “Chat gpt ais “interview” 1, december 2022,” AIS-\\nArchitecture Image Studies, vol. 3, no. 2, pp. 58–67, 2022.\\n[171] X.-R. Gong, J.-X.', mimetype='text/plain', start_char_idx=5044, end_char_idx=7861, metadata_seperator='\\n', text_template='{metadata_str}\\n\\n{content}'), score=0.628496433308969), NodeWithScore(node=TextNode(id_='9fea320a-6114-4182-a629-3c6c113ab23d', embedding=None, metadata={'page_label': '38', 'file_name': 'GPT-paper.pdf', 'file_path': 'c:\\\\Users\\\\User\\\\Desktop\\\\LlamaIndex\\\\tutorials\\\\loading_data\\\\..\\\\..\\\\data\\\\GPT-paper.pdf', 'file_type': 'application/pdf', 'file_size': 3250309, 'creation_date': '2025-02-12', 'last_modified_date': '2025-01-21'}, excluded_embed_metadata_keys=['file_name', 'file_type', 'file_size', 'creation_date', 'last_modified_date', 'last_accessed_date'], excluded_llm_metadata_keys=['file_name', 'file_type', 'file_size', 'creation_date', 'last_modified_date', 'last_accessed_date'], relationships={<NodeRelationship.SOURCE: '1'>: RelatedNodeInfo(node_id='5cfe4436-8ade-4f8c-acb7-3148f16764ee', node_type='4', metadata={'page_label': '38', 'file_name': 'GPT-paper.pdf', 'file_path': 'c:\\\\Users\\\\User\\\\Desktop\\\\LlamaIndex\\\\tutorials\\\\loading_data\\\\..\\\\..\\\\data\\\\GPT-paper.pdf', 'file_type': 'application/pdf', 'file_size': 3250309, 'creation_date': '2025-02-12', 'last_modified_date': '2025-01-21'}, hash='f4d4e57f7ae9eaa3babdfbb42d4f1146dd4dea7c9401314bfb00d5f44a903ff5'), <NodeRelationship.PREVIOUS: '2'>: RelatedNodeInfo(node_id='b6ee86e3-beea-47a1-8fb7-2b76693ed980', node_type='1', metadata={'page_label': '38', 'file_name': 'GPT-paper.pdf', 'file_path': 'c:\\\\Users\\\\User\\\\Desktop\\\\LlamaIndex\\\\tutorials\\\\loading_data\\\\..\\\\..\\\\data\\\\GPT-paper.pdf', 'file_type': 'application/pdf', 'file_size': 3250309, 'creation_date': '2025-02-12', 'last_modified_date': '2025-01-21'}, hash='12c2005cf0268f5c1b502191a091abe38fc6a662d6d1dd04ff0357113f2f5f85')}, metadata_template='{key}: {value}', metadata_separator='\\n', text='Raghavan, M. Ahuja et al. ,\\n““so what if chatgpt wrote it?” multidisciplinary perspectives on op-\\nportunities, challenges and implications of generative conversational ai\\nfor research, practice and policy,” International Journal of Information\\nManagement, vol. 71, p. 102642, 2023.\\n[118] S. Biswas, “Prospective role of chat gpt in the military: According to\\nchatgpt,” Qeios, 2023.\\n[119] P. Helo and A. Shamsuzzoha, “Real-time supply chain—a blockchain\\narchitecture for project deliveries,” Robotics and Computer-Integrated\\nManufacturing, vol. 63, p. 101909, 2020.\\n[120] R. Kadel, H. Shrestha, A. Shrestha, P. Sharma, N. Shrestha, J. Bashyal,\\nand S. Shrestha, “Emergence of ai in cyber security,” International\\nResearch Journal of Modernization in Engineering Technology and\\nScience, 2022.\\n[121] H. Benbya, S. Pachidi, and S. Jarvenpaa, “Special issue editorial:\\nArtiﬁcial intelligence in organizations: Implications for information\\nsystems research,” Journal of the Association for Information Systems ,\\nvol. 22, no. 2, p. 10, 2021.\\n[122] T. Zheng, M. Ardolino, A. Bacchetti, and M. Perona, “The applications\\nof industry 4.0 technologies in manufacturing context: a systematic lit-\\nerature review,”International Journal of Production Research, vol. 59,\\nno. 6, pp. 1922–1954, 2021.\\n[123] B. Rathore, “Digital transformation 4.0: Integration of artiﬁcial in-\\ntelligence & metaverse in marketing,” Eduzone: International Peer\\nReviewed/Refereed Multidisciplinary Journal, vol. 12, no. 1, pp. 42–48,\\n2023.\\n[124] J. Bulchand-Gidumal, “Impact of artiﬁcial intelligence in travel,\\ntourism, and hospitality,” in Handbook of e-Tourism. Springer, 2022,\\npp. 1943–1962.\\n[125] N. Gillani, R. Eynon, C. Chiabaut, and K. Finkel, “Unpacking the\\n“black box” of ai in education,” Educational Technology & Society ,\\nvol. 26, no. 1, pp. 99–111, 2023.\\n[126] N. Mehrabi, F. Morstatter, N. Saxena, K. Lerman, and A. Galstyan,\\n“A survey on bias and fairness in machine learning,” ACM Computing\\nSurveys (CSUR), vol. 54, no. 6, pp. 1–35, 2021.\\n[127] F. T. Tschang and E. Almirall, “Artiﬁcial intelligence as augmenting\\nautomation: Implications for employment,” Academy of Management\\nPerspectives, vol. 35, no. 4, pp. 642–659, 2021.\\n[128] V . Jain, B. Malviya, and S. Arya, “An overview of electronic commerce\\n(e-commerce),” Journal of Contemporary Issues in Business and Gov-\\nernment— Vol , vol. 27, no. 3, p. 666, 2021.\\n[129] B. Feijoo and A. Garc ´ıa Gonz´alez, “Online shopping routines among\\nchilean children: level of expansion and main causes,” 2020.', mimetype='text/plain', start_char_idx=6713, end_char_idx=9243, metadata_seperator='\\n', text_template='{metadata_str}\\n\\n{content}'), score=0.6241788738592242)], metadata={'64a633f6-863c-4c91-9b24-93d4d9c57ad5': {'page_label': '39', 'file_name': 'GPT-paper.pdf', 'file_path': 'c:\\\\Users\\\\User\\\\Desktop\\\\LlamaIndex\\\\tutorials\\\\loading_data\\\\..\\\\..\\\\data\\\\GPT-paper.pdf', 'file_type': 'application/pdf', 'file_size': 3250309, 'creation_date': '2025-02-12', 'last_modified_date': '2025-01-21'}, '9fea320a-6114-4182-a629-3c6c113ab23d': {'page_label': '38', 'file_name': 'GPT-paper.pdf', 'file_path': 'c:\\\\Users\\\\User\\\\Desktop\\\\LlamaIndex\\\\tutorials\\\\loading_data\\\\..\\\\..\\\\data\\\\GPT-paper.pdf', 'file_type': 'application/pdf', 'file_size': 3250309, 'creation_date': '2025-02-12', 'last_modified_date': '2025-01-21'}})"
      ]
     },
     "execution_count": 6,
     "metadata": {},
     "output_type": "execute_result"
    }
   ],
   "source": [
    "response1 = query_engine.query(\"What are the main topics discussed in these documents\")\n",
    "response1"
   ]
  },
  {
   "cell_type": "markdown",
   "metadata": {},
   "source": [
    "Under the hood, this splits your Document into Node objects, which are similar to Documents (they contain text and metadata) but have a relationship to their parent Document.\n",
    "\n",
    "If you want to customize core components, like the text splitter, through this abstraction you can pass in a custom transformations list or apply to the global Settings:"
   ]
  },
  {
   "cell_type": "code",
   "execution_count": 11,
   "metadata": {},
   "outputs": [
    {
     "name": "stderr",
     "output_type": "stream",
     "text": [
      "c:\\Users\\User\\anaconda3\\envs\\llm\\lib\\site-packages\\llama_index\\core\\indices\\base.py:110: DeprecationWarning: Call to deprecated method get_doc_id. ('get_doc_id' is deprecated, access the 'id_' property instead.) -- Deprecated since version 0.12.2.\n",
      "  docstore.set_document_hash(doc.get_doc_id(), doc.hash)\n"
     ]
    }
   ],
   "source": [
    "from llama_index.core.node_parser import SentenceSplitter\n",
    "from llama_index.core import Settings, VectorStoreIndex, SimpleDirectoryReader\n",
    "\n",
    "# Create the text splitter\n",
    "text_splitter = SentenceSplitter(chunk_size=512, chunk_overlap=10)\n",
    "\n",
    "# Set it globally\n",
    "Settings.text_splitter = text_splitter\n",
    "\n",
    "# Load documents\n",
    "documents = SimpleDirectoryReader(\"../../data\").load_data()\n",
    "\n",
    "# Create index - note the correct syntax here\n",
    "index = VectorStoreIndex.from_documents(\n",
    "    documents,  # Just pass documents directly\n",
    "    transformations=[text_splitter]\n",
    ")\n",
    "\n",
    "# Now you can create a query engine and use it\n",
    "query_engine = index.as_query_engine()"
   ]
  },
  {
   "cell_type": "markdown",
   "metadata": {},
   "source": [
    "### Lower-Level Transformation API\n",
    "You can also define these steps explicitly.\n",
    "\n",
    "You can do this by either using our transformation modules (text splitters, metadata extractors, etc.) as standalone components, or compose them in our declarative Transformation Pipeline interface.\n",
    "\n",
    "Let's walk through the steps below.\n",
    "\n",
    "Splitting Your Documents into Nodes#\n",
    "A key step to process your documents is to split them into \"chunks\"/Node objects. The key idea is to process your data into bite-sized pieces that can be retrieved / fed to the LLM.\n",
    "\n",
    "LlamaIndex has support for a wide range of text splitters, ranging from paragraph/sentence/token based splitters to file-based splitters like HTML, JSON.\n",
    "\n",
    "These can be used on their own or as part of an ingestion pipeline."
   ]
  },
  {
   "cell_type": "code",
   "execution_count": 30,
   "metadata": {},
   "outputs": [],
   "source": [
    "from llama_index.core import SimpleDirectoryReader\n",
    "from llama_index.core.node_parser import TokenTextSplitter\n",
    "from llama_index.core.ingestion import IngestionPipeline"
   ]
  },
  {
   "cell_type": "code",
   "execution_count": 31,
   "metadata": {},
   "outputs": [],
   "source": [
    "# loading documents\n",
    "documents = SimpleDirectoryReader(\"../../data\").load_data()\n",
    "\n",
    "# pipeline with text splitter \n",
    "pipeline = IngestionPipeline(\n",
    "    transformations=[TokenTextSplitter(), ])\n",
    "\n",
    "# processing documents into nodes\n",
    "nodes =  pipeline.run(documents=documents)"
   ]
  },
  {
   "cell_type": "code",
   "execution_count": 32,
   "metadata": {},
   "outputs": [
    {
     "name": "stdout",
     "output_type": "stream",
     "text": [
      "1\n",
      "GPT (Generative Pre-trained Transformer) – A\n",
      "Com\n",
      "Generative Pre-trained Transformer\n",
      "GPU Graphics Pr\n",
      "2\n",
      "machines in a more natural way. The evolution of\n",
      "These\n",
      "GPT models have demonstrated great potential\n",
      "3\n",
      "they concluded the paper by highlighting the key\n",
      "material.\n",
      "Next, we reviewed the abstracts of the r\n",
      "4\n",
      "SECTION-1:INTRODUCTION\n",
      "MOTIVATION RELATED SURVEY\n",
      "5\n",
      "TABLE II\n",
      "COMPARISON OF THIS SURVEY WITH THE EXIS\n",
      "major\n",
      "success as a result of its pre-training. Thi\n",
      "6\n",
      "ELIZA-1960\n",
      "Pattern matching &\n",
      "replacement\n",
      "Helps \n",
      "7\n",
      "model [30]. The Transformer model uses self-atte\n",
      "that enables a model to discover\n",
      "the statistical c\n",
      "8\n",
      "TABLE III\n",
      "COMPARSION OF DIFFERENT VERSIONS OF GP\n",
      "GPT models capture the\n",
      "variations in language usag\n",
      "9\n",
      "Add & Norm\n",
      "Multi-Head\n",
      "Attention \n",
      "Softmax\n",
      "Linear \n",
      "10\n",
      "Layer Norm\n",
      "Feed\n",
      "Forward \n",
      "Text & Position\n",
      "Embedd\n",
      "11\n",
      "HUMAN\n",
      "INSTRUCTION GPT TEXT RESULTS\n",
      "Data\n",
      "Input O\n",
      "12\n",
      "and any breakdown in connectivity may result in\n",
      "devices, cloud servers, and end-users [69].\n",
      "Though\n",
      "13\n",
      "thereby improving its reliability and accuracy.\n",
      "also analyze student\n",
      "performance data and generate\n",
      "14\n",
      "Education\n",
      "Healthcare\n",
      "Agriculture\n",
      "Lifestyle\n",
      "Mark\n",
      "15\n",
      "ized learning materials and exercises based on \n",
      "medical devices, and phar-\n",
      "maceuticals have underg\n",
      "16\n",
      "known compounds [86]. GPT can be trained on lar\n",
      "is security and privacy issues.\n",
      "As it is a model t\n",
      "17\n",
      "may be examined to uncover insightful informati\n",
      "in a variety of sectors, including manufacturing\n",
      "a\n",
      "18\n",
      "because these continuing efforts raise the depl\n",
      "data to optimize timing\n",
      "and dosage of intervention\n",
      "19\n",
      "soil variations across ﬁelds, allowing for site\n",
      "receive\n",
      "precise updates on their shipments using t\n",
      "20\n",
      "possible by this real-time accessibility. This \n",
      "entities using digital information processes and e\n",
      "21\n",
      "descriptions, marketing materials, customer rev\n",
      "to increase customer happiness.\n",
      "Segmenting consume\n",
      "22\n",
      "preferences, issues, and opinions regarding the\n",
      "improved by providing dynamic\n",
      "and more realistic r\n",
      "23\n",
      "• Realistic Gaming Interactions: GPT helps to g\n",
      "indicators like job, wealth, and physical and ment\n",
      "24\n",
      "free hours, medications taken, and available ex\n",
      "individuals in real life.\n",
      "I. Gaming\n",
      "1) Introductio\n",
      "25\n",
      "dynamic and personalized gaming worlds, generat\n",
      "have learned from their training data, which means\n",
      "26\n",
      "companies to target speciﬁc populations with pr\n",
      "campaigns\n",
      "to each customer’s desires based on thei\n",
      "27\n",
      "potential challenges, such as limited control, \n",
      "a popular GPT for\n",
      "stock market trend prediction. T\n",
      "28\n",
      "management and investment decisions. It also re\n",
      "[179].\n",
      "C. Copy.ai\n",
      "Copy.ai [180] is a mighty AI sta\n",
      "29\n",
      "TABLE IV\n",
      "PROJECT SUMMARY TABLE .\n",
      "Project DeepSc\n",
      "from Mozilla having over 9,000hours of speech data\n",
      "30\n",
      "learning practitioners to develop, launch, and \n",
      "Transformers for Music Modeling” (MST)\n",
      "model, was \n",
      "31\n",
      "and customer service by recommending goods and \n",
      "their performance may not be equally\n",
      "effective whe\n",
      "32\n",
      "Fig. 9. Challenges and Future Directions.\n",
      "as th\n",
      "33\n",
      "B. High Computational requirements\n",
      "As the Trans\n",
      "to assure these codes by\n",
      "GPT are reliable, a metri\n",
      "34\n",
      "architecture, and using post-processing methods\n",
      "researchers need to\n",
      "train GPT models on extensive,\n",
      "35\n",
      "I. Ethical Concerns\n",
      "The ethical concerns in GPT\n",
      "while\n",
      "minimizing any negative impact that they may\n",
      "36\n",
      "TABLE VI\n",
      "VARIOUS LESSONS LEARNED AND FUTURE RES\n",
      ", 2023.\n",
      "[19] ”GPT-1, GPT-2 and GPT-3 models explai\n",
      "37\n",
      "[34] J. R. Stevens, R. Venkatesan, S. Dai, B. K\n",
      "Hadjielias, M. Christoﬁ, and D. Vrontis, “A system\n",
      "and J. Liu, Deep Learning on Edge Computing\n",
      "Device\n",
      "A. Alam, “Possibilities and challenges of compound\n",
      "38\n",
      "[83] N. Pillai, A. Dasgupta, S. Sudaskorn, J. F\n",
      "O. H. Or ˘asan, and D.-A. Todea, “Therapeutic efﬁc\n",
      "Tsamados, M. Taddeo, and L. Floridi, “The\n",
      "ai gambi\n",
      "1943–1962.\n",
      "[125] N. Gillani, R. Eynon, C. Chiabaut\n",
      "39\n",
      "[130] X. Zhang, Y . Jiang, Y . Shang, Z. Cheng,\n",
      "S. Shahriar and K. Hayawi, “Let’s have a chat! a c\n",
      "to use chatgpt in your job search — indeed.com.” [\n",
      "ChatGPT”. [Accessed on 25.03.2023]. [Online]. Avai\n",
      "40\n",
      "[178] ”AI Dungeon: A text-based adventure-story\n",
      "Granmo, and M. Goodwin, “An inter-\n",
      "pretable word s\n",
      "McMahan, I. Mironov,\n",
      "K. Talwar, and L. Zhang, “Dee\n"
     ]
    }
   ],
   "source": [
    "# If you want to see the text content of each node\n",
    "for node in nodes:\n",
    "    print(node.text[:50])  #taking only 50 characters from each node's text"
   ]
  },
  {
   "cell_type": "markdown",
   "metadata": {},
   "source": [
    "### Adding Metadata"
   ]
  },
  {
   "cell_type": "markdown",
   "metadata": {},
   "source": [
    "You can also choose to add metadata to your documents and nodes. This can be done either manually or with automatic metadata extractors.\n",
    "\n",
    "Here are guides on 1) how to customize Documents, and 2) how to customize Nodes."
   ]
  },
  {
   "cell_type": "code",
   "execution_count": 38,
   "metadata": {},
   "outputs": [],
   "source": [
    "from llama_index.core import Document\n",
    "document = Document(\n",
    "    text=\"I love you \",\n",
    "    metadata={\"filename\": \"<doc_file_name>\", \"category\": \"<category>\"},\n",
    ")"
   ]
  },
  {
   "cell_type": "code",
   "execution_count": 39,
   "metadata": {},
   "outputs": [
    {
     "data": {
      "text/plain": [
       "({'filename': '<doc_file_name>', 'category': '<category>'}, 'I love you')"
      ]
     },
     "execution_count": 39,
     "metadata": {},
     "output_type": "execute_result"
    }
   ],
   "source": [
    "document.metadata, document.text"
   ]
  },
  {
   "cell_type": "markdown",
   "metadata": {},
   "source": [
    "#### Adding Embeddings\n",
    "To insert a node into a vector index, it should have an embedding. See our ingestion pipeline or our embeddings guide for more details.\n",
    "\n",
    "Creating and passing Nodes directly#\n",
    "If you want to, you can create nodes directly and pass a list of Nodes directly to an indexer:"
   ]
  },
  {
   "cell_type": "code",
   "execution_count": 46,
   "metadata": {},
   "outputs": [],
   "source": [
    "from llama_index.core.schema import TextNode\n",
    "from llama_index.core import VectorStoreIndex\n",
    "\n",
    "\n",
    "node1 = TextNode(text = \"<I love you ...>\", id = \"<12>\")\n",
    "node2 = TextNode(text = \"<I hope we will meet again>\", id = \"<13>\")\n",
    "\n",
    "\n",
    "index = VectorStoreIndex([node1, node2])"
   ]
  },
  {
   "cell_type": "markdown",
   "metadata": {},
   "source": [
    "We will print out the vectore store embedding data"
   ]
  },
  {
   "cell_type": "code",
   "execution_count": 54,
   "metadata": {},
   "outputs": [
    {
     "name": "stdout",
     "output_type": "stream",
     "text": [
      "Vector store data:\n",
      "SimpleVectorStoreData(embedding_dict={'ba9ee7ba-2854-48a7-a1b7-70dbb80c389c': [-0.03040938451886177, -0.014018412679433823, 0.0174795500934124, -0.06650132685899734, -0.05843060091137886, -0.01967405155301094, -0.0110123660415411, 0.05264576897025108, 0.03445570170879364, -0.01756100356578827, -0.027648719027638435, 0.005101713351905346, -0.020395664498209953, -0.008675223216414452, 0.03625844419002533, 0.002586199901998043, 0.00774774793535471, -0.06673156470060349, -0.052667807787656784, 0.01689990796148777, 0.06968507170677185, -0.002469509607180953, -0.01484872866421938, -0.019200270995497704, 0.004476430360227823, -0.018963810056447983, 0.009290208108723164, -0.054354630410671234, -0.004516778979450464, -0.11951632052659988, 0.025269409641623497, -0.0022044547367841005, 0.07578909397125244, 0.01263631135225296, 0.02094903029501438, 0.06233750283718109, -0.03230639547109604, 0.006675063632428646, -0.026273347437381744, 0.010905041359364986, 0.03326594457030296, -0.013925413601100445, -0.009769503027200699, 0.0059457276947796345, -0.01903841830790043, -0.07872704416513443, -0.026781689375638962, -0.014353613369166851, 0.056618139147758484, 0.013017446734011173, -0.04933794215321541, 0.0011292214039713144, -0.002023824490606785, -0.06217232719063759, 0.009761442430317402, 0.01286242064088583, 0.044996052980422974, 0.07160381227731705, 0.007345844525843859, 0.04216832295060158, -0.014149527065455914, 0.00884014368057251, -0.1840568333864212, 0.1099807471036911, 0.01474059373140335, 0.057058997452259064, -0.02503211982548237, 0.021028144285082817, -0.01886030286550522, 0.026027828454971313, -0.032253168523311615, -0.030244432389736176, 0.006828444078564644, 0.1090233325958252, -0.03280067443847656, 0.017547719180583954, 0.011247258633375168, -0.010952294804155827, -0.005960715934634209, 0.016674505546689034, -0.07241105288267136, 0.009388324804604053, -0.007296409457921982, 0.05400323495268822, -0.05796992778778076, -0.029810264706611633, -0.019176382571458817, 0.01906508579850197, 0.02926444076001644, -0.01288604736328125, 0.005845336243510246, -0.01679825782775879, 0.00018822004494722933, 0.03958360105752945, -0.07124963402748108, -0.04154449701309204, 0.01092529110610485, 0.002504523377865553, 0.021599603816866875, 0.3254014849662781, -0.08383890986442566, 0.0061308289878070354, 0.03710068762302399, -0.034411389380693436, 0.015629403293132782, -0.0074358610436320305, -0.010081927292048931, -0.08393391966819763, -0.0012883810559287667, 0.027114734053611755, 0.02754124626517296, -0.06174486130475998, -0.009602784179151058, -0.025346823036670685, 0.018374484032392502, 0.028654156252741814, 0.06695657223463058, -0.03068205527961254, 0.04382994771003723, -0.05035946145653725, 0.02224547602236271, -0.009277136996388435, -0.03810606896877289, -0.03772427514195442, 0.02921738103032112, -0.020286723971366882, 0.10922829061746597, 0.12051589041948318, 0.019422531127929688, 0.014051143079996109, 0.05202566459774971, -0.023512067273259163, -0.04316217824816704, -0.029688050970435143, -0.05012068152427673, 0.006866563111543655, -0.06137455627322197, 0.03284836933016777, -0.008373110555112362, 0.009474387392401695, -0.00230505526997149, -0.07862918823957443, 0.0026760646142065525, -0.022316426038742065, -0.07009188830852509, 0.0801335796713829, 0.018007762730121613, 0.02601052075624466, -0.04651515558362007, -0.030373360961675644, 0.00684332475066185, 0.04368993639945984, 0.011087819933891296, -0.005423968657851219, 0.027693698182702065, 0.014010383747518063, 0.06989989429712296, 0.01272306963801384, 0.01132242288440466, 0.03872893378138542, 0.02498428151011467, -0.04881266504526138, -0.03622530773282051, 0.06985871493816376, 0.04377305135130882, -0.1001708060503006, -0.020047765225172043, -0.019835669547319412, -0.01107080839574337, -0.027057453989982605, 0.04226119443774223, -0.07219308614730835, -0.050371501594781876, 0.06088882312178612, 0.02632748894393444, -0.0025890087708830833, -0.0030216884333640337, 0.004151017405092716, 0.01719074323773384, 0.06558896601200104, -0.0016173734329640865, -0.0023074178025126457, -0.01423537079244852, 0.04867789149284363, 0.056099485605955124, -0.05487234890460968, -0.0008423156687058508, -0.06469867378473282, 0.05175728723406792, 0.02549542859196663, -0.001061439048498869, 0.004447604063898325, 0.06415563076734543, -0.01649327017366886, -0.1299828737974167, 0.004038090351969004, -0.033948831260204315, -0.05256582424044609, -0.055034954100847244, -0.06622038781642914, 0.07883737981319427, 0.01966056413948536, 0.0039064399898052216, -0.006789195351302624, 0.0397380068898201, 0.0016510369023308158, 0.05376714840531349, -0.04294371232390404, 0.05338728800415993, -0.031412363052368164, -0.030162634328007698, -0.00010089584247907624, 0.05258356034755707, 0.016563942655920982, 0.01243644580245018, -0.043685831129550934, 0.005635412409901619, 0.02620795927941799, 0.03238274157047272, 0.02893722429871559, -0.092293381690979, -0.025322558358311653, -0.044088929891586304, -0.31140559911727905, -0.033457428216934204, 0.04092758893966675, 0.010552781634032726, 0.001974141225218773, 0.013306910172104836, 0.05120180919766426, 0.0224866084754467, 0.02903379127383232, 0.09064673632383347, -0.004042543936520815, -0.043546389788389206, 0.001578864874318242, 0.01429646648466587, 0.0075483075343072414, -0.002842946909368038, -0.009841658174991608, 0.03524862229824066, 0.07123271375894547, 0.020083729177713394, 0.014072021469473839, -0.021532796323299408, 0.0422661192715168, -0.024798329919576645, 0.029964802786707878, -0.044604819267988205, 0.18269838392734528, 0.05746711418032646, 0.014179038815200329, 0.029143501073122025, 0.046233516186475754, -0.009996570646762848, 0.04348863288760185, -0.0475618913769722, -0.020097525790333748, 0.041044529527425766, -0.018603753298521042, 0.021687382832169533, -0.052574336528778076, -0.05261347442865372, 0.04520794004201889, 0.03961474075913429, -0.01788203790783882, -0.06921503692865372, -0.05424030125141144, -0.053160082548856735, -0.07562189549207687, -0.05439344421029091, -0.055681005120277405, 0.08188162744045258, 0.006570173427462578, -0.040415193885564804, 0.06545055657625198, 0.021512135863304138, 0.037004273384809494, -0.017747899517416954, -0.0712759718298912, 0.02700342983007431, -0.00624355161562562, -0.04487191140651703, -0.014890380203723907, 0.03658060356974602, 0.035840559750795364, -0.03893965855240822, 0.023578161373734474, 0.050887104123830795, -0.01547998283058405, -0.06557944416999817, 0.05872202664613724, -0.01881222613155842, -0.027010532096028328, 0.014475845731794834, 0.0034681486431509256, 0.019092926755547523, 0.014512487687170506, 0.06288693845272064, -0.012364734895527363, -0.016240397468209267, -0.0538901686668396, -0.02786424197256565, -0.013425652869045734, 0.02771572768688202, 0.0071788146160542965, 0.011134820058941841, -0.018608706071972847, 0.07987993210554123, 0.06726521253585815, -0.007436930667608976, 0.08162162452936172, -0.04403357207775116, -0.006693203933537006, 0.03027050569653511, 0.038937561213970184, -0.034431084990501404, 0.0026358962059020996, -0.006087805610150099, -0.26000288128852844, 0.005774573888629675, -0.005943403113633394, 0.027973895892500877, -0.03366678208112717, 0.039904430508613586, -0.005901204887777567, 0.02025928720831871, -0.0571158230304718, 0.018068812787532806, -0.06451407074928284, 0.02717554196715355, 0.032390497624874115, -0.03558507561683655, 0.002774963853880763, 0.021184731274843216, 0.05092031881213188, -0.06372887641191483, 0.0223531611263752, -0.08930268883705139, 0.033771224319934845, -0.018621215596795082, 0.15815962851047516, -0.04468913748860359, -0.028776656836271286, 0.0251406729221344, 0.01911606453359127, -0.055318817496299744, 0.057348400354385376, 0.0001544592814752832, 0.03156270831823349, 0.009431714192032814, 0.1000245064496994, -0.009333768859505653, -0.016229897737503052, 0.03400804474949837, -0.009968334808945656, -0.0030483717564493418, -0.03059658594429493, -0.006093122996389866, -0.04078526794910431, 0.055849384516477585, -0.055124904960393906, -0.054453033953905106, 0.09740713983774185, 0.03031317889690399, -0.0016924154479056597, -0.07207122445106506, -0.04280749708414078, -0.010505851358175278, -0.04282246530056, 0.006854380946606398, -0.011562339961528778, -0.005062520503997803, 0.03410506993532181, 0.06566819548606873, -0.03561472147703171, 0.020343786105513573, 0.00013574823969975114, -0.02383452281355858, -0.01331180240958929, -0.013869212940335274, 0.09973616898059845, 0.025853199884295464, 0.020280275493860245], '2196f4b2-2e0f-43bf-979f-6519a0ee4677': [-0.04948173463344574, -0.004470789339393377, -0.02083602361381054, -0.051615159958601, -0.006855011451989412, -0.016230856999754906, -0.030802421271800995, 0.059536974877119064, 0.013047420419752598, -0.026847001165151596, -0.045082077383995056, -0.0434722825884819, -0.0025286341551691294, -0.022820422425866127, 0.06733410805463791, 0.03223137557506561, -0.019067857414484024, -0.05072803795337677, -0.07356251776218414, 0.03686651960015297, 0.05159321799874306, 0.0029640886932611465, 0.002975969575345516, -0.02907850220799446, 0.008759045042097569, 0.01700522191822529, -0.026779979467391968, -0.02533462457358837, -0.023233460262417793, -0.1189529299736023, 0.032605722546577454, 0.0252834502607584, 0.03336525335907936, -0.015946906059980392, 0.011713161133229733, -0.0007427582750096917, -0.054940514266490936, 0.009486163035035133, 0.0015841179993003607, -0.021771332249045372, 0.005591546185314655, -0.04132337123155594, -0.003767675021663308, -0.018125757575035095, 0.022832360118627548, -0.08589649945497513, -0.028111962601542473, -0.03580491617321968, 0.044772546738386154, -0.02768094651401043, -0.058363694697618484, -0.009584978222846985, 0.008248480968177319, -0.03468016907572746, 0.04511312022805214, 0.054441485553979874, 0.03129155933856964, 0.04744656756520271, 0.007857348769903183, 0.07664424180984497, -0.008094614371657372, 0.026707127690315247, -0.1785476803779602, 0.09102635085582733, 0.00026662295567803085, 0.04095054417848587, -0.069978266954422, -0.0072341072373092175, -0.04293264448642731, 0.03799208626151085, 0.0009117116569541395, -0.004175923764705658, -0.0007999899098649621, 0.08893942087888718, -0.034146662801504135, -0.0005538714467547834, -0.02460453100502491, -0.034620631486177444, 0.005264226347208023, -0.029697606340050697, -0.04581432044506073, 0.008071747608482838, 0.01748369075357914, 0.055519476532936096, -0.023351041600108147, -0.01906672492623329, -0.03774021565914154, 0.006709159351885319, 0.017463037744164467, 0.015068361535668373, 0.06779973953962326, -0.025337185710668564, -0.010613540187478065, 0.012850764207541943, -0.07732804864645004, -0.008194981142878532, -0.014038433320820332, 0.012116165831685066, 0.05279293283820152, 0.32721641659736633, -0.046995531767606735, -0.01089317537844181, 0.03445645421743393, -0.017282526940107346, 0.025258744135499, -0.051129862666130066, -0.03017178177833557, -0.0768548771739006, -0.015091284178197384, 0.003677654778584838, 0.01747547835111618, -0.009929717518389225, -0.0015454274835065007, 0.0049647255800664425, 0.0016011307016015053, 0.05079435557126999, 0.08211423456668854, -0.01715211756527424, 0.027971431612968445, -0.0529598705470562, -0.0019831352401524782, -0.022201059386134148, -0.037233397364616394, -0.04998835548758507, 0.06211710348725319, -0.048764653503894806, 0.09442247450351715, 0.08517758548259735, 0.03895558789372444, -0.012250562198460102, 0.03153973072767258, 0.008515438064932823, -0.035833559930324554, 0.007684777956455946, -0.07073278725147247, -0.005684019066393375, -0.03680001199245453, 0.03232318535447121, 0.00544215040281415, -0.00977421272546053, 0.04323941841721535, -0.09831751883029938, -0.0054079145193099976, -0.045148398727178574, -0.025593064725399017, 0.11382871121168137, 0.002781612565740943, -0.0006179981864988804, -0.02221885696053505, -0.006741761229932308, 0.0026642184238880873, 0.022702990099787712, 0.05284012109041214, -0.01609991118311882, 0.05436073616147041, 0.008851270191371441, 0.09472363442182541, 0.013821923173964024, 0.0026126049924641848, 0.01444399543106556, 0.06016058102250099, -0.04046991094946861, -0.040616925805807114, 0.06795597076416016, 0.02355225756764412, -0.06674057245254517, -0.020798400044441223, -0.04966769739985466, 0.005208740942180157, 0.0067863427102565765, 0.04250268265604973, -0.02101093903183937, -0.0383593775331974, 0.02367721125483513, 0.019260700792074203, 0.010066000744700432, -0.029063241556286812, 0.0006391855422407389, 0.051196612417697906, 0.03806496039032936, -0.006741255521774292, 0.016503240913152695, -0.033766407519578934, 0.07397168129682541, 0.019345885142683983, -0.07983230799436569, -0.033098142594099045, -0.04446011781692505, 0.02280384860932827, 0.05272326618432999, -0.01169033907353878, 0.0064386604353785515, 0.006268795114010572, 0.02063457854092121, -0.08567631989717484, -0.009652533568441868, 0.013614591211080551, -0.004302619956433773, -0.06825841963291168, -0.06323359161615372, 0.11154614388942719, 0.024023378267884254, -0.032892804592847824, -0.042388223111629486, 0.04322850704193115, -0.019971512258052826, 0.09651057422161102, -0.05141780525445938, 0.04731666296720505, -0.013191684149205685, -0.012519555166363716, -0.022256484255194664, 0.05025773495435715, 0.029407164081931114, -0.0009864020394161344, -0.019996145740151405, -0.0055926949717104435, 0.04450057074427605, 0.017767447978258133, 0.06173967570066452, -0.060479536652565, -0.022404823452234268, -0.04675183817744255, -0.3277631402015686, -0.0022430983372032642, 0.05541352927684784, 0.006529136560857296, 0.019985496997833252, 0.028857415542006493, -0.002155495109036565, 0.012221145443618298, 0.017273331061005592, 0.06707217544317245, 0.0012623071670532227, -0.036641925573349, -0.001747919712215662, 0.005393198225647211, -0.019388020038604736, 0.022674625739455223, -0.011424041353166103, 0.03559481352567673, 0.036393966525793076, 0.039087217301130295, 0.01937779411673546, 0.005762207787483931, 0.06276491284370422, -0.029875826090574265, 0.060966216027736664, -0.02039068192243576, 0.179717019200325, 0.053010206669569016, -0.012476620264351368, -0.019750218838453293, 0.05725424736738205, 0.03788940981030464, 0.03824279084801674, -0.051114559173583984, 0.03418704494833946, 0.02538534626364708, -0.025722436606884003, 0.039083320647478104, -0.050057701766490936, -0.030070437118411064, 0.024204282090067863, 0.03540051728487015, 0.008325884118676186, -0.039516791701316833, -0.004387926310300827, -0.045283734798431396, -0.05491120368242264, -0.050979774445295334, -0.04436672478914261, 0.025812577456235886, 0.00433284230530262, 0.03957699239253998, 0.06662748008966446, -0.02879803068935871, 0.01133724395185709, 0.03542168810963631, -0.10618024319410324, 0.012233137153089046, -0.021145416423678398, -0.05106276646256447, -0.0392533503472805, 0.02814284898340702, 0.019400205463171005, -0.035662539303302765, -0.018693173304200172, 0.07928399741649628, 0.015336117707192898, -0.06316963583230972, 0.011332363821566105, 0.008830389939248562, 0.006104071158915758, -0.0147905508056283, -0.007896856404840946, -0.002983727725222707, 0.019032621756196022, 0.05730287358164787, -0.006129400804638863, -0.010992330498993397, -0.009299191646277905, -0.06097021698951721, 0.0019424472702667117, 0.02145248092710972, -6.317174847936258e-05, 0.03453695774078369, 0.012897931039333344, 0.008955518715083599, 0.039282139390707016, -0.05044938623905182, 0.06545139849185944, -0.06389140337705612, -0.026781903579831123, 0.0285263042896986, 0.02491002343595028, -0.0038075901102274656, -0.03153661638498306, -0.008513507433235645, -0.2823428511619568, -0.01581439934670925, 0.025808537378907204, -0.004853389225900173, -0.0476735420525074, 0.050831109285354614, 0.01144801639020443, 0.016506517305970192, -0.05641341581940651, -0.016590362414717674, -0.05655797943472862, 0.04000067710876465, 0.04811173304915428, -0.028365744277834892, -0.031298309564590454, 0.05955417826771736, 0.08391033858060837, -0.0502701997756958, 0.013498319312930107, -0.07266958802938461, -0.015700511634349823, -0.013007109984755516, 0.1827203631401062, -0.04409945011138916, -0.00899340957403183, -0.018566090613603592, 0.014240110293030739, -0.010459527373313904, 0.06607764214277267, 0.030703378841280937, 0.032718997448682785, 0.012045455165207386, 0.12514758110046387, -0.03751998022198677, -0.04734833166003227, 0.012338138185441494, -0.050642989575862885, 0.027763372287154198, -0.0031495641451328993, -0.011928129941225052, -0.04032806307077408, 0.05235203355550766, -0.08712389320135117, -0.0549907423555851, 0.08350028842687607, 0.009273407980799675, 0.007286671549081802, -0.05665969103574753, 0.01577564887702465, 0.04348943382501602, -0.03535064682364464, -0.002858246909454465, -0.004421625752002001, 0.023701852187514305, 0.056225650012493134, 0.014542793855071068, -0.05367039889097214, -0.028651965782046318, 0.023453153669834137, -0.01592174358665943, -0.024172049015760422, -0.006259630899876356, 0.0848960131406784, 0.02402130700647831, 0.011288830079138279]}, text_id_to_ref_doc_id={'ba9ee7ba-2854-48a7-a1b7-70dbb80c389c': 'None', '2196f4b2-2e0f-43bf-979f-6519a0ee4677': 'None'}, metadata_dict={'ba9ee7ba-2854-48a7-a1b7-70dbb80c389c': {'_node_type': 'TextNode', 'document_id': 'None', 'doc_id': 'None', 'ref_doc_id': 'None'}, '2196f4b2-2e0f-43bf-979f-6519a0ee4677': {'_node_type': 'TextNode', 'document_id': 'None', 'doc_id': 'None', 'ref_doc_id': 'None'}})\n"
     ]
    }
   ],
   "source": [
    "# Get vector store\n",
    "vector_store = index._vector_store\n",
    "\n",
    "# Print all data (includes embeddings)\n",
    "print(\"Vector store data:\")\n",
    "print(vector_store.data)"
   ]
  },
  {
   "cell_type": "code",
   "execution_count": null,
   "metadata": {},
   "outputs": [],
   "source": []
  }
 ],
 "metadata": {
  "kernelspec": {
   "display_name": "llm",
   "language": "python",
   "name": "python3"
  },
  "language_info": {
   "codemirror_mode": {
    "name": "ipython",
    "version": 3
   },
   "file_extension": ".py",
   "mimetype": "text/x-python",
   "name": "python",
   "nbconvert_exporter": "python",
   "pygments_lexer": "ipython3",
   "version": "3.10.16"
  }
 },
 "nbformat": 4,
 "nbformat_minor": 2
}
